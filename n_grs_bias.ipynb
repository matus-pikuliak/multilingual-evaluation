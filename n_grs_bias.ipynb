{
 "cells": [
  {
   "cell_type": "code",
   "execution_count": 1,
   "metadata": {},
   "outputs": [
    {
     "name": "stdout",
     "output_type": "stream",
     "text": [
      "Total: 40\n",
      "Indo-E: 29\n",
      "GRS: 22\n",
      "Italic: 6\n",
      "Slavic: 10\n",
      "Germanic: 6\n",
      "\n"
     ]
    },
    {
     "data": {
      "application/vnd.jupyter.widget-view+json": {
       "model_id": "56d9ae73550e4f04babff9e5235a78e9",
       "version_major": 2,
       "version_minor": 0
      },
      "text/plain": [
       "Canvas(toolbar=Toolbar(toolitems=[('Home', 'Reset original view', 'home', 'home'), ('Back', 'Back to previous …"
      ]
     },
     "metadata": {},
     "output_type": "display_data"
    }
   ],
   "source": [
    "import numpy as np\n",
    "%matplotlib widget\n",
    "import matplotlib.pyplot as plt\n",
    "\n",
    "from languages import Node, Language\n",
    "from language_utils.utils import fam\n",
    "\n",
    "plt.rcParams[\"figure.figsize\"] = (5,5)\n",
    "plt.ion()\n",
    "\n",
    "recs = {}\n",
    "for line in open('./papers/rahimi_ner.txt'):\n",
    "    language, *scores = line.strip().split()\n",
    "    scores = [int(score) for score in scores]\n",
    "    recs[language] = scores\n",
    "\n",
    "print('Total:', len(recs))\n",
    "print('Indo-E:', sum(\n",
    "    Node.find_by_abbrv(lang).belongs_to(fam.indo)\n",
    "    for lang\n",
    "    in recs\n",
    "))\n",
    "print('GRS:', sum(\n",
    "    Node.find_by_abbrv(lang).belongs_to(fam.grs)\n",
    "    for lang\n",
    "    in recs\n",
    "))\n",
    "for l in fam.grs:\n",
    "    print(f'{l}:', sum(\n",
    "    Node.find_by_abbrv(lang).belongs_to({l})\n",
    "    for lang\n",
    "    in recs\n",
    "))\n",
    "print()\n",
    "\n",
    "\n",
    "def weight(lang):\n",
    "    return 1\n",
    "    if Node.find_by_abbrv(lang).belongs_to(fam.grs):\n",
    "        return 1\n",
    "    else:\n",
    "        return 7\n",
    "\n",
    "\n",
    "for i in range(len(scores)):\n",
    "    total_avg = np.mean([\n",
    "        score[i] * weight(lang)\n",
    "        for lang, score\n",
    "        in recs.items()\n",
    "    ])\n",
    "    indo_avg = np.mean([\n",
    "        score[i]\n",
    "        for lang, score\n",
    "        in recs.items()\n",
    "        if not Node.find_by_abbrv(lang).belongs_to(fam.grs)\n",
    "    ])\n",
    "    plt.scatter(total_avg, indo_avg, c='r', s=2)\n",
    "    plt.annotate(i,\n",
    "                 xy=(total_avg, indo_avg),\n",
    "                 xytext=(5, 2),\n",
    "                 textcoords='offset points',\n",
    "                 ha='right',\n",
    "                 va='bottom',\n",
    "                 fontsize='xx-small')\n",
    "\n",
    "plt.plot([0, 100], [0, 100])\n",
    "plt.show()"
   ]
  },
  {
   "cell_type": "code",
   "execution_count": null,
   "metadata": {},
   "outputs": [],
   "source": [
    "ner41 > rahimi_ner\n",
    "ner101 > heiznerlin_ner\n",
    "pos > heizel_pos\n",
    "artefacts > artkekse\n",
    "xnli > huang\n",
    "mkqa > longpre"
   ]
  },
  {
   "cell_type": "code",
   "execution_count": 10,
   "metadata": {},
   "outputs": [
    {
     "data": {
      "image/png": "[encoded data removed]",
      "text/plain": [
       "<Figure size 360x360 with 1 Axes>"
      ]
     },
     "metadata": {
      "needs_background": "light"
     },
     "output_type": "display_data"
    }
   ],
   "source": [
    "import numpy as np\n",
    "import matplotlib.pyplot as plt\n",
    "import itertools\n",
    "\n",
    "from language_utils.utils import fam\n",
    "from languages import Node\n",
    "\n",
    "data = dict()\n",
    "for line in open('./papers/heinzerling_ner.txt'):\n",
    "    lang, *scores = line.strip().split()\n",
    "    lang = {\n",
    "        'als': 'gsw',\n",
    "        'bxr': 'bua',\n",
    "        'diq': 'zza',\n",
    "        'gom': 'kok',\n",
    "        'nrm': 'nrf',\n",
    "        'sh': 'hbs'\n",
    "    }.get(lang, lang)\n",
    "    scores = [float(s) for s in scores]\n",
    "    data[lang] = scores\n",
    "    try:\n",
    "        Node.find_by_abbrv(lang)\n",
    "    except AttributeError as e:\n",
    "        print(e)\n",
    "\n",
    "for i in range(len(scores)):\n",
    "    total = np.mean([\n",
    "        score[i]\n",
    "        for score\n",
    "        in data.values()\n",
    "    ])\n",
    "    non_grs = np.mean([\n",
    "        score[i]\n",
    "        for lang, score\n",
    "        in data.items()\n",
    "        if not Node.find_by_abbrv(lang).belongs_to(fam.grs)\n",
    "    ])\n",
    "    plt.scatter(total, non_grs, c='r', s=2)\n",
    "    plt.annotate(i,\n",
    "                 xy=(total, non_grs),\n",
    "                 xytext=(5, 2),\n",
    "                 textcoords='offset points',\n",
    "                 ha='right',\n",
    "                 va='bottom',\n",
    "                 fontsize='xx-small')\n",
    "\n",
    "plt.show()\n"
   ]
  },
  {
   "cell_type": "code",
   "execution_count": 11,
   "metadata": {},
   "outputs": [
    {
     "data": {
      "image/png": "[encoded data removed]",
      "text/plain": [
       "<Figure size 360x360 with 1 Axes>"
      ]
     },
     "metadata": {
      "needs_background": "light"
     },
     "output_type": "display_data"
    }
   ],
   "source": [
    "import numpy as np\n",
    "import matplotlib.pyplot as plt\n",
    "import itertools\n",
    "\n",
    "from language_utils.utils import fam\n",
    "from languages import Node\n",
    "\n",
    "data = dict()\n",
    "for line in open('./papers/heinzerling_pos.txt'):\n",
    "    lang, *scores = line.strip().split()\n",
    "    scores = [float(s) for s in scores]\n",
    "    data[lang] = scores\n",
    "    # try:\n",
    "    #     Node.find_by_abbrv(lang)\n",
    "    # except AttributeError as e:\n",
    "    #     print(e)\n",
    "\n",
    "for i in range(len(scores)):\n",
    "    total = np.mean([\n",
    "        score[i]\n",
    "        for score\n",
    "        in data.values()\n",
    "    ])\n",
    "    non_grs = np.mean([\n",
    "        score[i]\n",
    "        for lang, score\n",
    "        in data.items()\n",
    "        if not Node.find_by_abbrv(lang).belongs_to(fam.grs)\n",
    "    ])\n",
    "    plt.scatter(total, non_grs, c='r', s=2)\n",
    "    plt.annotate(i,\n",
    "                 xy=(total, non_grs),\n",
    "                 xytext=(5, 2),\n",
    "                 textcoords='offset points',\n",
    "                 ha='right',\n",
    "                 va='bottom',\n",
    "                 fontsize='xx-small')\n",
    "\n",
    "plt.plot([0, 100], [0, 100])\n",
    "plt.show()\n"
   ]
  },
  {
   "cell_type": "code",
   "execution_count": 13,
   "metadata": {},
   "outputs": [
    {
     "data": {
      "image/png": "[encoded data removed]",
      "text/plain": [
       "<Figure size 360x360 with 1 Axes>"
      ]
     },
     "metadata": {
      "needs_background": "light"
     },
     "output_type": "display_data"
    }
   ],
   "source": [
    "import numpy as np\n",
    "import matplotlib.pyplot as plt\n",
    "\n",
    "langs = 'en fr es de el bg ru tr ar vi th zh hi sw ur'.split()\n",
    "mask = [0, 0, 0, 0, 1, 0, 0, 1, 1, 1, 1, 1, 1, 1, 1]\n",
    "\n",
    "data = [\n",
    "    list(map(float, line.split()))\n",
    "    for line\n",
    "    in open('./papers/artetxe_nli.txt')\n",
    "]\n",
    "\n",
    "for i, m in enumerate(data):\n",
    "    total = np.mean(m)\n",
    "    non_grs = np.mean([a for a, b in zip(m, mask) if b])\n",
    "    plt.scatter(total, non_grs, s=2, c='r')\n",
    "    plt.annotate(i,\n",
    "                 xy=(total, non_grs),\n",
    "                 xytext=(5, 2),\n",
    "                 textcoords='offset points',\n",
    "                 ha='right',\n",
    "                 va='bottom',\n",
    "                 fontsize='xx-small')\n",
    "plt.plot([0, 100], [0, 100])\n",
    "plt.show()"
   ]
  },
  {
   "cell_type": "code",
   "execution_count": 15,
   "metadata": {},
   "outputs": [
    {
     "data": {
      "image/png": "[encoded data removed]",
      "text/plain": [
       "<Figure size 360x360 with 1 Axes>"
      ]
     },
     "metadata": {
      "needs_background": "light"
     },
     "output_type": "display_data"
    }
   ],
   "source": [
    "import numpy as np\n",
    "import matplotlib.pyplot as plt\n",
    "\n",
    "from language_utils.utils import fam\n",
    "from languages import Node\n",
    "\n",
    "langs = 'en fr es de el bg ru tr ar vi th zh hi sw ur'.split()\n",
    "\n",
    "for line in open('./papers/huang_nli.txt'):\n",
    "    scores = line.strip().split()\n",
    "    scores = [float(s) for s in scores]\n",
    "\n",
    "    total = np.mean(scores)\n",
    "    non_grs = np.mean([\n",
    "        s\n",
    "        for i, s\n",
    "        in enumerate(scores)\n",
    "        if not Node.find_by_abbrv(langs[i]).belongs_to(fam.indo)\n",
    "    ])\n",
    "    plt.scatter(total, non_grs, c='r', s=2)\n",
    "\n",
    "plt.show()\n"
   ]
  },
  {
   "cell_type": "code",
   "execution_count": 16,
   "metadata": {},
   "outputs": [
    {
     "data": {
      "image/png": "[encoded data removed]",
      "text/plain": [
       "<Figure size 360x360 with 1 Axes>"
      ]
     },
     "metadata": {
      "needs_background": "light"
     },
     "output_type": "display_data"
    }
   ],
   "source": [
    "import numpy as np\n",
    "import matplotlib.pyplot as plt\n",
    "import itertools\n",
    "\n",
    "from language_utils.utils import fam\n",
    "from languages import Node\n",
    "\n",
    "data = dict()\n",
    "for line in open('./papers/longpre_qa.txt'):\n",
    "    lang, *scores = line.strip().split()\n",
    "    scores = [float(s) for s in scores]\n",
    "    data[lang] = scores\n",
    "\n",
    "colors = itertools.cycle(['r', 'b'])\n",
    "\n",
    "for i in range(len(scores)):\n",
    "    total = np.sum([\n",
    "        score[i]\n",
    "        for score\n",
    "        in data.values()\n",
    "    ])\n",
    "    non_grs = np.sum([\n",
    "        score[i]\n",
    "        for lang, score\n",
    "        in data.items()\n",
    "        if not Node.find_by_abbrv(lang[:2]).belongs_to(fam.grs)\n",
    "    ])\n",
    "    plt.scatter(total, non_grs, c=next(colors), s=2)\n",
    "\n",
    "plt.show()\n"
   ]
  },
  {
   "cell_type": "code",
   "execution_count": null,
   "metadata": {},
   "outputs": [],
   "source": []
  }
 ],
 "metadata": {
  "kernelspec": {
   "display_name": "Python 3",
   "language": "python",
   "name": "python3"
  },
  "language_info": {
   "codemirror_mode": {
    "name": "ipython",
    "version": 3
   },
   "file_extension": ".py",
   "mimetype": "text/x-python",
   "name": "python",
   "nbconvert_exporter": "python",
   "pygments_lexer": "ipython3",
   "version": "3.8.5"
  }
 },
 "nbformat": 4,
 "nbformat_minor": 4
}
