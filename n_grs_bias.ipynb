{
 "cells": [
  {
   "cell_type": "code",
   "execution_count": 1,
   "metadata": {},
   "outputs": [
    {
     "name": "stdout",
     "output_type": "stream",
     "text": [
      "Total: 40\n",
      "Indo-E: 29\n",
      "GRS: 22\n",
      "Slavic: 10\n",
      "Germanic: 6\n",
      "Italic: 6\n",
      "\n"
     ]
    },
    {
     "data": {
      "application/vnd.jupyter.widget-view+json": {
       "model_id": "0c67721028ee47f58a19e0e24c44cd4b",
       "version_major": 2,
       "version_minor": 0
      },
      "text/plain": [
       "Canvas(toolbar=Toolbar(toolitems=[('Home', 'Reset original view', 'home', 'home'), ('Back', 'Back to previous …"
      ]
     },
     "metadata": {},
     "output_type": "display_data"
    }
   ],
   "source": [
    "import numpy as np\n",
    "%matplotlib ipympl\n",
    "import matplotlib.pyplot as plt\n",
    "\n",
    "from languages import Node, Language\n",
    "from language_utils.utils import fam\n",
    "\n",
    "plt.rcParams[\"figure.figsize\"] = (20,10)\n",
    "plt.ion()\n",
    "\n",
    "recs = {}\n",
    "for line in open('ner_41.txt'):\n",
    "    language, *scores = line.strip().split()\n",
    "    scores = [int(score) for score in scores]\n",
    "    recs[language] = scores\n",
    "\n",
    "print('Total:', len(recs))\n",
    "print('Indo-E:', sum(\n",
    "    Node.find_by_abbrv(lang).belongs_to(fam.indo)\n",
    "    for lang\n",
    "    in recs\n",
    "))\n",
    "print('GRS:', sum(\n",
    "    Node.find_by_abbrv(lang).belongs_to(fam.grs)\n",
    "    for lang\n",
    "    in recs\n",
    "))\n",
    "for l in fam.grs:\n",
    "    print(f'{l}:', sum(\n",
    "    Node.find_by_abbrv(lang).belongs_to({l})\n",
    "    for lang\n",
    "    in recs\n",
    "))\n",
    "print()\n",
    "\n",
    "\n",
    "def weight(lang):\n",
    "    return 1\n",
    "    if Node.find_by_abbrv(lang).belongs_to(fam.grs):\n",
    "        return 1\n",
    "    else:\n",
    "        return 7\n",
    "\n",
    "\n",
    "for i in range(len(scores)):\n",
    "    total_avg = np.mean([\n",
    "        score[i] * weight(lang)\n",
    "        for lang, score\n",
    "        in recs.items()\n",
    "    ])\n",
    "    indo_avg = np.mean([\n",
    "        score[i]\n",
    "        for lang, score\n",
    "        in recs.items()\n",
    "        if not Node.find_by_abbrv(lang).belongs_to(fam.grs)\n",
    "    ])\n",
    "    plt.scatter(total_avg, indo_avg, c='r', s=2)\n",
    "    plt.annotate(i,\n",
    "                 xy=(total_avg, indo_avg),\n",
    "                 xytext=(5, 2),\n",
    "                 textcoords='offset points',\n",
    "                 ha='right',\n",
    "                 va='bottom',\n",
    "                 fontsize='xx-small')\n",
    "\n",
    "plt.plot([0, 100], [0, 100])\n",
    "plt.show()"
   ]
  },
  {
   "cell_type": "code",
   "execution_count": null,
   "metadata": {},
   "outputs": [],
   "source": []
  }
 ],
 "metadata": {
  "kernelspec": {
   "display_name": "Python 3",
   "language": "python",
   "name": "python3"
  },
  "language_info": {
   "codemirror_mode": {
    "name": "ipython",
    "version": 3
   },
   "file_extension": ".py",
   "mimetype": "text/x-python",
   "name": "python",
   "nbconvert_exporter": "python",
   "pygments_lexer": "ipython3",
   "version": "3.8.2"
  }
 },
 "nbformat": 4,
 "nbformat_minor": 4
}
